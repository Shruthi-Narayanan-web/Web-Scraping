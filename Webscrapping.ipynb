{
  "cells": [
    {
      "cell_type": "markdown",
      "metadata": {
        "id": "view-in-github",
        "colab_type": "text"
      },
      "source": [
        "<a href=\"https://colab.research.google.com/github/Shruthi-Narayanan-web/Web-Scraping/blob/main/Webscrapping.ipynb\" target=\"_parent\"><img src=\"https://colab.research.google.com/assets/colab-badge.svg\" alt=\"Open In Colab\"/></a>"
      ]
    },
    {
      "cell_type": "code",
      "execution_count": null,
      "metadata": {
        "colab": {
          "base_uri": "https://localhost:8080/"
        },
        "id": "c2klFpH5oNEr",
        "outputId": "b429124f-2d27-4c9a-b89c-0f0daf17dc76"
      },
      "outputs": [
        {
          "name": "stdout",
          "output_type": "stream",
          "text": [
            "Collecting bs4\n",
            "  Downloading bs4-0.0.2-py2.py3-none-any.whl.metadata (411 bytes)\n",
            "Requirement already satisfied: beautifulsoup4 in /usr/local/lib/python3.10/dist-packages (from bs4) (4.12.3)\n",
            "Requirement already satisfied: soupsieve>1.2 in /usr/local/lib/python3.10/dist-packages (from beautifulsoup4->bs4) (2.6)\n",
            "Downloading bs4-0.0.2-py2.py3-none-any.whl (1.2 kB)\n",
            "Installing collected packages: bs4\n",
            "Successfully installed bs4-0.0.2\n",
            "Requirement already satisfied: requests in /usr/local/lib/python3.10/dist-packages (2.32.3)\n",
            "Requirement already satisfied: charset-normalizer<4,>=2 in /usr/local/lib/python3.10/dist-packages (from requests) (3.3.2)\n",
            "Requirement already satisfied: idna<4,>=2.5 in /usr/local/lib/python3.10/dist-packages (from requests) (3.8)\n",
            "Requirement already satisfied: urllib3<3,>=1.21.1 in /usr/local/lib/python3.10/dist-packages (from requests) (2.0.7)\n",
            "Requirement already satisfied: certifi>=2017.4.17 in /usr/local/lib/python3.10/dist-packages (from requests) (2024.8.30)\n"
          ]
        }
      ],
      "source": [
        "!pip install bs4\n",
        "!pip install requests"
      ]
    },
    {
      "cell_type": "code",
      "execution_count": 1,
      "metadata": {
        "id": "qZ_y8A7LYOXK"
      },
      "outputs": [],
      "source": [
        "#import libraries\n",
        "from bs4 import BeautifulSoup\n",
        "#used to parse through HTML format and lets you navigate the document's structure easily and extract data\n",
        "import requests\n",
        "#optional to send email\n",
        "import csv"
      ]
    },
    {
      "cell_type": "code",
      "execution_count": 2,
      "metadata": {
        "colab": {
          "base_uri": "https://localhost:8080/"
        },
        "id": "mJdHdRfpbDgS",
        "outputId": "9cd3bab5-0e1f-4f1b-9a61-66003007066f"
      },
      "outputs": [
        {
          "output_type": "stream",
          "name": "stdout",
          "text": [
            "<Response [529]>\n"
          ]
        }
      ],
      "source": [
        "#connect to website\n",
        "#html parser goes through the html text and converts it into a structure that can be easily traversed and manipulated\n",
        "headers=({'User-Agent':'Mozilla/5.0 (Windows NT 10.0; Win64; x64) AppleWebKit/537.36 (KHTML, like Gecko) Chrome/127.0.0.0 Safari/537.36 OPR/113.0.0.0', 'Accept-Language': 'en-US, en;q=0.5'})\n",
        "url = 'https://www.flipkart.com/search?q=frocks&otracker=search&otracker1=search&marketplace=FLIPKART&as-show=on&as=off'\n",
        "res=requests.get(url,headers=headers)\n",
        "print(res)\n",
        "#making requests to the website\n",
        "\n",
        "s= BeautifulSoup(res.content,'html.parser')\n",
        "\n",
        "s1= BeautifulSoup(s.prettify(), 'html.parser')\n"
      ]
    },
    {
      "cell_type": "code",
      "source": [
        " 'Accept-Language': 'en-US, en;q=0.5'"
      ],
      "metadata": {
        "id": "G9HtA_Kj6nvd",
        "colab": {
          "base_uri": "https://localhost:8080/",
          "height": 106
        },
        "outputId": "fa14b433-6cf1-4d3d-875b-39df2b2e34d4"
      },
      "execution_count": 3,
      "outputs": [
        {
          "output_type": "error",
          "ename": "SyntaxError",
          "evalue": "illegal target for annotation (ipython-input-3-643820145.py, line 1)",
          "traceback": [
            "\u001b[0;36m  File \u001b[0;32m\"/tmp/ipython-input-3-643820145.py\"\u001b[0;36m, line \u001b[0;32m1\u001b[0m\n\u001b[0;31m    'Accept-Language': 'en-US, en;q=0.5'\u001b[0m\n\u001b[0m    ^\u001b[0m\n\u001b[0;31mSyntaxError\u001b[0m\u001b[0;31m:\u001b[0m illegal target for annotation\n"
          ]
        }
      ]
    },
    {
      "cell_type": "code",
      "execution_count": null,
      "metadata": {
        "id": "-0hHRuSY5iMC"
      },
      "outputs": [],
      "source": [
        "#\n",
        "print(['Title', 'Price','Rating','Discount'])"
      ]
    },
    {
      "cell_type": "code",
      "execution_count": null,
      "metadata": {
        "id": "EV_rSQK_bgKr"
      },
      "outputs": [],
      "source": [
        "links = list(s.find_all('a', attrs={'class':'WKTcLC'}))\n",
        "L=[]\n",
        "for j in range(len(links)):\n",
        "   product_list='https://www.flipkart.com'+ links[k].get('href')\n",
        "   new_webpage=requests.get(product_list,headers=headers)\n",
        "   n_s=BeautifulSoup(new_webpage.content,'html.parser')\n",
        "   t=n_s.find(\"span\",attrs={'class':'VU-ZEz'}).text.strip()\n",
        "   p=n_s.find(\"div\",attrs={'class':'Nx9bqj CxhGGd'}).text.strip()\n",
        "   r=n_s.find(\"div\",attrs={'class':'XQDdHH _1Quie7'}).text.strip()\n",
        "   d=n_s.find(\"div\",attrs={'class':'UkUFwK WW8yVX dB67CR'}).text.strip()\n",
        "   L.append([t,p,r,d])"
      ]
    },
    {
      "cell_type": "code",
      "source": [
        "print(['Title', 'Price','Rating','Discount'])\n",
        "for i in range(len(L)):\n",
        "  for e in range(len(i)):\n",
        "    print(L[k][e])\n",
        "  print()"
      ],
      "metadata": {
        "id": "6fKw155ndaTt"
      },
      "execution_count": null,
      "outputs": []
    },
    {
      "cell_type": "code",
      "execution_count": null,
      "metadata": {
        "colab": {
          "base_uri": "https://localhost:8080/"
        },
        "id": "qz4RWdu4LwyB",
        "outputId": "fecd01c5-6d4d-4ffb-f999-63241640ee94"
      },
      "outputs": [
        {
          "output_type": "stream",
          "name": "stdout",
          "text": [
            "[]\n"
          ]
        }
      ],
      "source": [
        "links = list(s.find_all('a', attrs={'class':'WKTcLC'}))\n",
        "print(links)\n",
        "for k in range(len(links)):\n",
        "  print('https://www.meesho.com'+ links[k].get('href'))"
      ]
    },
    {
      "cell_type": "code",
      "execution_count": null,
      "metadata": {
        "colab": {
          "base_uri": "https://localhost:8080/",
          "height": 158
        },
        "id": "0ppgOg3VQnXV",
        "outputId": "95bace8e-7836-4a4f-8c73-7aecce057011"
      },
      "outputs": [
        {
          "output_type": "error",
          "ename": "NameError",
          "evalue": "name 'product_list' is not defined",
          "traceback": [
            "\u001b[0;31m---------------------------------------------------------------------------\u001b[0m",
            "\u001b[0;31mNameError\u001b[0m                                 Traceback (most recent call last)",
            "\u001b[0;32m<ipython-input-17-4bee0a7cb4a8>\u001b[0m in \u001b[0;36m<cell line: 1>\u001b[0;34m()\u001b[0m\n\u001b[0;32m----> 1\u001b[0;31m \u001b[0mnew_webpage\u001b[0m\u001b[0;34m=\u001b[0m\u001b[0mrequests\u001b[0m\u001b[0;34m.\u001b[0m\u001b[0mget\u001b[0m\u001b[0;34m(\u001b[0m\u001b[0mproduct_list\u001b[0m\u001b[0;34m,\u001b[0m\u001b[0mheaders\u001b[0m\u001b[0;34m=\u001b[0m\u001b[0mheaders\u001b[0m\u001b[0;34m)\u001b[0m\u001b[0;34m\u001b[0m\u001b[0;34m\u001b[0m\u001b[0m\n\u001b[0m\u001b[1;32m      2\u001b[0m \u001b[0mnew_webpage\u001b[0m\u001b[0;34m\u001b[0m\u001b[0;34m\u001b[0m\u001b[0m\n",
            "\u001b[0;31mNameError\u001b[0m: name 'product_list' is not defined"
          ]
        }
      ],
      "source": [
        "new_webpage=requests.get(product_list,headers=headers)\n",
        "new_webpage"
      ]
    },
    {
      "cell_type": "code",
      "execution_count": null,
      "metadata": {
        "colab": {
          "background_save": true,
          "base_uri": "https://localhost:8080/"
        },
        "id": "hDVlYuaDIu8S",
        "outputId": "5240fc64-9a82-4ba7-a4c9-d302d482dc71"
      },
      "outputs": [
        {
          "name": "stdout",
          "output_type": "stream",
          "text": [
            "Beginner's Guide to Python\n",
            "Is Python for you?\n",
            "Best Way to Learn Python\n",
            "How to Run Python?\n",
            "Level: Beginner\n"
          ]
        }
      ],
      "source": [
        "with open(\"WebscrappingAmazon.csv\",'a+',newline=\"\") as f:\n",
        "  w=csv.writer(f)\n",
        "  r=csv.reader(f)\n",
        "  w.writerow(['Title'])\n",
        "  L=[]\n",
        "  for k in range(len(links)): #len(links)):\n",
        "    if 'https' in links[k].get('href'):\n",
        "      product_list=links[k].get('href')\n",
        "    else:\n",
        "      product_list='https://www.programiz.com'+ links[k].get('href')\n",
        "    try:\n",
        "      new_webpage=requests.get(product_list,headers=headers)\n",
        "      n_s=BeautifulSoup(new_webpage.content,'html.parser')\n",
        "      if k==0:\n",
        "        t1=n_s.find(\"h2\",attrs={'id':'guide'}).text.strip()\n",
        "        b=n_s.find(\"div\",attrs={'class':'accordion-header__title'}).text.strip()\n",
        "        a=n_s.find(\"div\",attrs={'class':'accordion-body'}).text.strip()\n",
        "        L.append(t1)\n",
        "        t2=n_s.find(\"h2\",attrs={'id':'is-python-for-you'}).text.strip()\n",
        "        code=n_s.find(\"div\",attrs={'class':'code-segments mb-4x'}).text.strip()\n",
        "        L.append(t2)\n",
        "        t3=n_s.find(\"h2\",attrs={'id':'best-way'}).text.strip()\n",
        "        L.append(t3)\n",
        "        t4=n_s.find(\"h2\",attrs={'id':'run'}).text.strip()\n",
        "        L.append(t4)\n",
        "      if k==1:\n",
        "        level=n_s.find(\"p\",attrs={'class':'hero-section__hero-tag__text'}).text.strip()\n",
        "        L.append(level)\n",
        "    except:\n",
        "      pass\n",
        "  for j in range(len(L)):\n",
        "    print(L[j])"
      ]
    },
    {
      "cell_type": "code",
      "execution_count": null,
      "metadata": {
        "colab": {
          "base_uri": "https://localhost:8080/",
          "height": 211
        },
        "id": "rcCXVTHuM7Zi",
        "outputId": "74b77512-997d-4dd7-a5ae-b2d70c88b0d0"
      },
      "outputs": [
        {
          "ename": "NameError",
          "evalue": "name 'new_webpage' is not defined",
          "output_type": "error",
          "traceback": [
            "\u001b[0;31m---------------------------------------------------------------------------\u001b[0m",
            "\u001b[0;31mNameError\u001b[0m                                 Traceback (most recent call last)",
            "\u001b[0;32m<ipython-input-15-505a1d965c31>\u001b[0m in \u001b[0;36m<cell line: 1>\u001b[0;34m()\u001b[0m\n\u001b[0;32m----> 1\u001b[0;31m \u001b[0mn_s\u001b[0m\u001b[0;34m=\u001b[0m\u001b[0mBeautifulSoup\u001b[0m\u001b[0;34m(\u001b[0m\u001b[0mnew_webpage\u001b[0m\u001b[0;34m.\u001b[0m\u001b[0mcontent\u001b[0m\u001b[0;34m,\u001b[0m\u001b[0;34m'html.parser'\u001b[0m\u001b[0;34m)\u001b[0m\u001b[0;34m\u001b[0m\u001b[0;34m\u001b[0m\u001b[0m\n\u001b[0m\u001b[1;32m      2\u001b[0m \u001b[0;31m#product=n_s.find(\"span\",attrs={'id':'productTitle'}).text.strip()\u001b[0m\u001b[0;34m\u001b[0m\u001b[0;34m\u001b[0m\u001b[0m\n\u001b[1;32m      3\u001b[0m \u001b[0mprice_whole\u001b[0m\u001b[0;34m=\u001b[0m\u001b[0mn_s\u001b[0m\u001b[0;34m.\u001b[0m\u001b[0mfind\u001b[0m\u001b[0;34m(\u001b[0m\u001b[0;34m\"span\"\u001b[0m\u001b[0;34m,\u001b[0m\u001b[0mattrs\u001b[0m\u001b[0;34m=\u001b[0m\u001b[0;34m{\u001b[0m\u001b[0;34m'class'\u001b[0m\u001b[0;34m:\u001b[0m\u001b[0;34m'a-price-whole'\u001b[0m\u001b[0;34m}\u001b[0m\u001b[0;34m)\u001b[0m\u001b[0;34m.\u001b[0m\u001b[0mtext\u001b[0m\u001b[0;34m\u001b[0m\u001b[0;34m\u001b[0m\u001b[0m\n\u001b[1;32m      4\u001b[0m \u001b[0mprice_fraction\u001b[0m\u001b[0;34m=\u001b[0m\u001b[0mn_s\u001b[0m\u001b[0;34m.\u001b[0m\u001b[0mfind\u001b[0m\u001b[0;34m(\u001b[0m\u001b[0;34m\"span\"\u001b[0m\u001b[0;34m,\u001b[0m\u001b[0mattrs\u001b[0m\u001b[0;34m=\u001b[0m\u001b[0;34m{\u001b[0m\u001b[0;34m'class'\u001b[0m\u001b[0;34m:\u001b[0m\u001b[0;34m'a-price-fraction'\u001b[0m\u001b[0;34m}\u001b[0m\u001b[0;34m)\u001b[0m\u001b[0;34m.\u001b[0m\u001b[0mtext\u001b[0m\u001b[0;34m\u001b[0m\u001b[0;34m\u001b[0m\u001b[0m\n\u001b[1;32m      5\u001b[0m \u001b[0mprice_symbol\u001b[0m\u001b[0;34m=\u001b[0m\u001b[0mn_s\u001b[0m\u001b[0;34m.\u001b[0m\u001b[0mfind\u001b[0m\u001b[0;34m(\u001b[0m\u001b[0;34m\"span\"\u001b[0m\u001b[0;34m,\u001b[0m\u001b[0mattrs\u001b[0m\u001b[0;34m=\u001b[0m\u001b[0;34m{\u001b[0m\u001b[0;34m'class'\u001b[0m\u001b[0;34m:\u001b[0m\u001b[0;34m'a-price-symbol'\u001b[0m\u001b[0;34m}\u001b[0m\u001b[0;34m)\u001b[0m\u001b[0;34m.\u001b[0m\u001b[0mtext\u001b[0m\u001b[0;34m\u001b[0m\u001b[0;34m\u001b[0m\u001b[0m\n",
            "\u001b[0;31mNameError\u001b[0m: name 'new_webpage' is not defined"
          ]
        }
      ],
      "source": [
        "   n_s=BeautifulSoup(new_webpage.content,'html.parser')\n",
        "   #product=n_s.find(\"span\",attrs={'id':'productTitle'}).text.strip()\n",
        "   price_whole=n_s.find(\"span\",attrs={'class':'a-price-whole'}).text\n",
        "   price_fraction=n_s.find(\"span\",attrs={'class':'a-price-fraction'}).text\n",
        "   price_symbol=n_s.find(\"span\",attrs={'class':'a-price-symbol'}).text\n",
        "   price=price_symbol+price_whole+price_fraction\n",
        "   rating=n_s.find(\"span\",attrs={'class':'a-icon-alt'}).text\n",
        "   about=n_s.find(\"ul\",attrs={'class':'a-unordered-list a-vertical a-spacing-mini'}).text.split('  ')\n",
        "   s=''\n",
        "   for k in range(1,len(about),2):\n",
        "    s+=k\n",
        "   brand=n_s.find(\"span\",attrs={'class':'a-size-base po-break-word'}).text\n",
        "   L=[product,price,rating,about,brand]\n",
        "   print(L)\n",
        "   w.writerow(L)"
      ]
    },
    {
      "cell_type": "code",
      "execution_count": null,
      "metadata": {
        "colab": {
          "base_uri": "https://localhost:8080/",
          "height": 158
        },
        "id": "_DsH09qy8lX1",
        "outputId": "594c892e-d74e-4bef-bdfb-1df2a3fef671"
      },
      "outputs": [
        {
          "ename": "NameError",
          "evalue": "name 'product_list' is not defined",
          "output_type": "error",
          "traceback": [
            "\u001b[0;31m---------------------------------------------------------------------------\u001b[0m",
            "\u001b[0;31mNameError\u001b[0m                                 Traceback (most recent call last)",
            "\u001b[0;32m<ipython-input-16-4bee0a7cb4a8>\u001b[0m in \u001b[0;36m<cell line: 1>\u001b[0;34m()\u001b[0m\n\u001b[0;32m----> 1\u001b[0;31m \u001b[0mnew_webpage\u001b[0m\u001b[0;34m=\u001b[0m\u001b[0mrequests\u001b[0m\u001b[0;34m.\u001b[0m\u001b[0mget\u001b[0m\u001b[0;34m(\u001b[0m\u001b[0mproduct_list\u001b[0m\u001b[0;34m,\u001b[0m\u001b[0mheaders\u001b[0m\u001b[0;34m=\u001b[0m\u001b[0mheaders\u001b[0m\u001b[0;34m)\u001b[0m\u001b[0;34m\u001b[0m\u001b[0;34m\u001b[0m\u001b[0m\n\u001b[0m\u001b[1;32m      2\u001b[0m \u001b[0mnew_webpage\u001b[0m\u001b[0;34m\u001b[0m\u001b[0;34m\u001b[0m\u001b[0m\n",
            "\u001b[0;31mNameError\u001b[0m: name 'product_list' is not defined"
          ]
        }
      ],
      "source": [
        "new_webpage=requests.get(product_list,headers=headers)\n",
        "new_webpage"
      ]
    },
    {
      "cell_type": "code",
      "execution_count": null,
      "metadata": {
        "colab": {
          "base_uri": "https://localhost:8080/"
        },
        "id": "JWD2UCy98-SX",
        "outputId": "4c5518ab-7139-47a3-9d94-3a4af9407a01"
      },
      "outputs": [
        {
          "data": {
            "text/plain": [
              "<!DOCTYPE html>\n",
              "\n",
              "<html>\n",
              "<head>\n",
              "<meta charset=\"utf-8\"/>\n",
              "<meta content=\"ie=edge\" http-equiv=\"x-ua-compatible\"/>\n",
              "<meta content=\"width=device-width, initial-scale=1, shrink-to-fit=no\" name=\"viewport\"/>\n",
              "<title>\n",
              "      503 - Service Unavailable Error</title>\n",
              "<style>\n",
              "      html,body{padding:0;margin:0}img{border:0}#a{background:#232f3e;padding:11px 11px 11px 192px}#b{position:absolute;left:22px;top:12px}#c{position:relative;max-width:800px;padding:0 40px 0 0}#e,#f{height:35px;border:0;font-size:1em}#e{width:100%;margin:0;padding:0 10px;border-radius:4px 0 0 4px}#f{cursor:pointer;background:#febd69;font-weight:bold;border-radius:0 4px 4px 0;-webkit-appearance:none;position:absolute;top:0;right:0;padding:0 12px}@media(max-width:500px){#a{padding:55px 10px 10px}#b{left:6px}}#g{text-align:center;margin:30px 0}#g img{max-width:90%}#d{display:none}#d[src]{display:inline}\n",
              "    </style>\n",
              "</head>\n",
              "<body>\n",
              "<!--\n",
              "        To discuss automated access to Amazon data please contact api-services-support@amazon.com.\n",
              "\n",
              "For information about migrating to our APIs refer to our Marketplace APIs at https://developer.amazonservices.com/ref=rm_5_sv, or our Product Advertising API at https://affiliate-program.amazon.com/gp/advertising/api/detail/main.html/ref=rm_5_ac for advertising use cases.\n",
              "    -->\n",
              "<a href=\"/\">\n",
              "<img alt=\"Amazon\" id=\"b\" src=\"https://images-na.ssl-images-amazon.com/images/G/01/error/logo._TTD_.png\"/>\n",
              "</a>\n",
              "<form accept-charset=\"utf-8\" action=\"/s\" id=\"a\" method=\"GET\" role=\"search\">\n",
              "<div id=\"c\">\n",
              "<input id=\"e\" name=\"field-keywords\" placeholder=\"Search\"/>\n",
              "<input id=\"f\" type=\"submit\" value=\"Go\"/>\n",
              "</div>\n",
              "</form>\n",
              "<div id=\"g\">\n",
              "<div>\n",
              "<a href=\"/ref=cs_503_link/\">\n",
              "<img alt=\"Sorry! Something went wrong. Please go back and try again or go to Amazon's home page.\" src=\"https://images-na.ssl-images-amazon.com/images/G/01/error/en_US/500_503._TTD_.png\"/>\n",
              "</a>\n",
              "</div>\n",
              "<a href=\"/dogsofamazon\" rel=\"noopener noreferrer\" target=\"_blank\">\n",
              "<img alt=\"Dogs of Amazon\" id=\"d\"/>\n",
              "</a>\n",
              "<script>\n",
              "        document.getElementById(\"d\").src=\"https://images-na.ssl-images-amazon.com/images/G/01/error/en_US/\" + (Math.floor(Math.random() *200) + 1) + \"._TTD_.jpg\";\n",
              "      </script>\n",
              "</div>\n",
              "</body>\n",
              "</html>\n",
              "<!-- 801edd59 -->"
            ]
          },
          "execution_count": 12,
          "metadata": {},
          "output_type": "execute_result"
        }
      ],
      "source": [
        "n_s=BeautifulSoup(new_webpage.content,'html.parser')\n",
        "n_s"
      ]
    },
    {
      "cell_type": "code",
      "execution_count": null,
      "metadata": {
        "colab": {
          "base_uri": "https://localhost:8080/"
        },
        "id": "DF3wF6lk9SLG",
        "outputId": "18901428-000f-4276-adf0-6a8ea5098249"
      },
      "outputs": [
        {
          "name": "stdout",
          "output_type": "stream",
          "text": [
            "None\n"
          ]
        }
      ],
      "source": [
        "print(n_s.find(\"span\",attrs={'id':'productTitle','class':'a-size-large product-title-word-break'}))\n"
      ]
    },
    {
      "cell_type": "code",
      "execution_count": null,
      "metadata": {
        "colab": {
          "base_uri": "https://localhost:8080/",
          "height": 141
        },
        "id": "wDE2bbkM9MBp",
        "outputId": "4840ffa4-e6cc-436b-abbe-50f1861199af"
      },
      "outputs": [
        {
          "ename": "AttributeError",
          "evalue": "'NoneType' object has no attribute 'text'",
          "output_type": "error",
          "traceback": [
            "\u001b[0;31m---------------------------------------------------------------------------\u001b[0m",
            "\u001b[0;31mAttributeError\u001b[0m                            Traceback (most recent call last)",
            "\u001b[0;32m<ipython-input-38-cb6bf1b2ee66>\u001b[0m in \u001b[0;36m<cell line: 1>\u001b[0;34m()\u001b[0m\n\u001b[0;32m----> 1\u001b[0;31m \u001b[0mprice_whole\u001b[0m\u001b[0;34m=\u001b[0m\u001b[0mn_s\u001b[0m\u001b[0;34m.\u001b[0m\u001b[0mfind\u001b[0m\u001b[0;34m(\u001b[0m\u001b[0;34m\"span\"\u001b[0m\u001b[0;34m,\u001b[0m\u001b[0mattrs\u001b[0m\u001b[0;34m=\u001b[0m\u001b[0;34m{\u001b[0m\u001b[0;34m'class'\u001b[0m\u001b[0;34m:\u001b[0m\u001b[0;34m'a-price-whole'\u001b[0m\u001b[0;34m}\u001b[0m\u001b[0;34m)\u001b[0m\u001b[0;34m.\u001b[0m\u001b[0mtext\u001b[0m\u001b[0;34m\u001b[0m\u001b[0;34m\u001b[0m\u001b[0m\n\u001b[0m",
            "\u001b[0;31mAttributeError\u001b[0m: 'NoneType' object has no attribute 'text'"
          ]
        }
      ],
      "source": [
        "price_whole=n_s.find(\"span\",attrs={'class':'a-price-whole'}).text"
      ]
    },
    {
      "cell_type": "code",
      "execution_count": null,
      "metadata": {
        "colab": {
          "base_uri": "https://localhost:8080/",
          "height": 141
        },
        "id": "FDp0xJW1_j7I",
        "outputId": "96b06b5a-73e8-4b25-d5eb-cfac30f9ae32"
      },
      "outputs": [
        {
          "ename": "AttributeError",
          "evalue": "'NoneType' object has no attribute 'text'",
          "output_type": "error",
          "traceback": [
            "\u001b[0;31m---------------------------------------------------------------------------\u001b[0m",
            "\u001b[0;31mAttributeError\u001b[0m                            Traceback (most recent call last)",
            "\u001b[0;32m<ipython-input-39-30f0f2c0d071>\u001b[0m in \u001b[0;36m<cell line: 1>\u001b[0;34m()\u001b[0m\n\u001b[0;32m----> 1\u001b[0;31m \u001b[0mprice_fraction\u001b[0m\u001b[0;34m=\u001b[0m\u001b[0mn_s\u001b[0m\u001b[0;34m.\u001b[0m\u001b[0mfind\u001b[0m\u001b[0;34m(\u001b[0m\u001b[0;34m\"span\"\u001b[0m\u001b[0;34m,\u001b[0m\u001b[0mattrs\u001b[0m\u001b[0;34m=\u001b[0m\u001b[0;34m{\u001b[0m\u001b[0;34m'class'\u001b[0m\u001b[0;34m:\u001b[0m\u001b[0;34m'a-price-fraction'\u001b[0m\u001b[0;34m}\u001b[0m\u001b[0;34m)\u001b[0m\u001b[0;34m.\u001b[0m\u001b[0mtext\u001b[0m\u001b[0;34m\u001b[0m\u001b[0;34m\u001b[0m\u001b[0m\n\u001b[0m",
            "\u001b[0;31mAttributeError\u001b[0m: 'NoneType' object has no attribute 'text'"
          ]
        }
      ],
      "source": [
        "price_fraction=n_s.find(\"span\",attrs={'class':'a-price-fraction'}).text"
      ]
    },
    {
      "cell_type": "code",
      "execution_count": null,
      "metadata": {
        "colab": {
          "base_uri": "https://localhost:8080/",
          "height": 141
        },
        "id": "6-Bd2Z-H_tAf",
        "outputId": "20829214-94fa-42d0-943b-17e3e7017754"
      },
      "outputs": [
        {
          "ename": "AttributeError",
          "evalue": "'NoneType' object has no attribute 'text'",
          "output_type": "error",
          "traceback": [
            "\u001b[0;31m---------------------------------------------------------------------------\u001b[0m",
            "\u001b[0;31mAttributeError\u001b[0m                            Traceback (most recent call last)",
            "\u001b[0;32m<ipython-input-40-4418ff10baed>\u001b[0m in \u001b[0;36m<cell line: 1>\u001b[0;34m()\u001b[0m\n\u001b[0;32m----> 1\u001b[0;31m \u001b[0mprice_symbol\u001b[0m\u001b[0;34m=\u001b[0m\u001b[0mn_s\u001b[0m\u001b[0;34m.\u001b[0m\u001b[0mfind\u001b[0m\u001b[0;34m(\u001b[0m\u001b[0;34m\"span\"\u001b[0m\u001b[0;34m,\u001b[0m\u001b[0mattrs\u001b[0m\u001b[0;34m=\u001b[0m\u001b[0;34m{\u001b[0m\u001b[0;34m'class'\u001b[0m\u001b[0;34m:\u001b[0m\u001b[0;34m'a-price-symbol'\u001b[0m\u001b[0;34m}\u001b[0m\u001b[0;34m)\u001b[0m\u001b[0;34m.\u001b[0m\u001b[0mtext\u001b[0m\u001b[0;34m\u001b[0m\u001b[0;34m\u001b[0m\u001b[0m\n\u001b[0m",
            "\u001b[0;31mAttributeError\u001b[0m: 'NoneType' object has no attribute 'text'"
          ]
        }
      ],
      "source": [
        "price_symbol=n_s.find(\"span\",attrs={'class':'a-price-symbol'}).text"
      ]
    },
    {
      "cell_type": "code",
      "execution_count": null,
      "metadata": {
        "colab": {
          "base_uri": "https://localhost:8080/",
          "height": 158
        },
        "id": "WD9u-kbD_38l",
        "outputId": "cc59f381-9d0e-4638-f64e-237f477a799e"
      },
      "outputs": [
        {
          "ename": "NameError",
          "evalue": "name 'price_symbol' is not defined",
          "output_type": "error",
          "traceback": [
            "\u001b[0;31m---------------------------------------------------------------------------\u001b[0m",
            "\u001b[0;31mNameError\u001b[0m                                 Traceback (most recent call last)",
            "\u001b[0;32m<ipython-input-17-eaf5fcaaebde>\u001b[0m in \u001b[0;36m<cell line: 1>\u001b[0;34m()\u001b[0m\n\u001b[0;32m----> 1\u001b[0;31m \u001b[0mprice\u001b[0m\u001b[0;34m=\u001b[0m\u001b[0mprice_symbol\u001b[0m\u001b[0;34m+\u001b[0m\u001b[0mprice_whole\u001b[0m\u001b[0;34m+\u001b[0m\u001b[0mprice_fraction\u001b[0m\u001b[0;34m\u001b[0m\u001b[0;34m\u001b[0m\u001b[0m\n\u001b[0m\u001b[1;32m      2\u001b[0m \u001b[0mprint\u001b[0m\u001b[0;34m(\u001b[0m\u001b[0mprice\u001b[0m\u001b[0;34m)\u001b[0m\u001b[0;34m\u001b[0m\u001b[0;34m\u001b[0m\u001b[0m\n",
            "\u001b[0;31mNameError\u001b[0m: name 'price_symbol' is not defined"
          ]
        }
      ],
      "source": [
        "price=price_symbol+price_whole+price_fraction\n",
        "print(price)"
      ]
    },
    {
      "cell_type": "code",
      "execution_count": null,
      "metadata": {
        "colab": {
          "base_uri": "https://localhost:8080/",
          "height": 158
        },
        "id": "tSu-jWm5APn5",
        "outputId": "b7aecc83-7b91-48f7-d6f0-1b0d67ae0a3a"
      },
      "outputs": [
        {
          "ename": "AttributeError",
          "evalue": "'NoneType' object has no attribute 'text'",
          "output_type": "error",
          "traceback": [
            "\u001b[0;31m---------------------------------------------------------------------------\u001b[0m",
            "\u001b[0;31mAttributeError\u001b[0m                            Traceback (most recent call last)",
            "\u001b[0;32m<ipython-input-18-5d89267c8ff4>\u001b[0m in \u001b[0;36m<cell line: 1>\u001b[0;34m()\u001b[0m\n\u001b[0;32m----> 1\u001b[0;31m \u001b[0mrating\u001b[0m\u001b[0;34m=\u001b[0m\u001b[0mn_s\u001b[0m\u001b[0;34m.\u001b[0m\u001b[0mfind\u001b[0m\u001b[0;34m(\u001b[0m\u001b[0;34m\"span\"\u001b[0m\u001b[0;34m,\u001b[0m\u001b[0mattrs\u001b[0m\u001b[0;34m=\u001b[0m\u001b[0;34m{\u001b[0m\u001b[0;34m'class'\u001b[0m\u001b[0;34m:\u001b[0m\u001b[0;34m'a-icon-alt'\u001b[0m\u001b[0;34m}\u001b[0m\u001b[0;34m)\u001b[0m\u001b[0;34m.\u001b[0m\u001b[0mtext\u001b[0m\u001b[0;34m\u001b[0m\u001b[0;34m\u001b[0m\u001b[0m\n\u001b[0m\u001b[1;32m      2\u001b[0m \u001b[0mrating\u001b[0m\u001b[0;34m\u001b[0m\u001b[0;34m\u001b[0m\u001b[0m\n",
            "\u001b[0;31mAttributeError\u001b[0m: 'NoneType' object has no attribute 'text'"
          ]
        }
      ],
      "source": [
        "rating=n_s.find(\"span\",attrs={'class':'a-icon-alt'}).text\n",
        "rating"
      ]
    },
    {
      "cell_type": "code",
      "execution_count": null,
      "metadata": {
        "colab": {
          "base_uri": "https://localhost:8080/"
        },
        "id": "X5gwEU18CidS",
        "outputId": "7a3a9e63-ce93-419f-c209-63546c259e61"
      },
      "outputs": [
        {
          "name": "stdout",
          "output_type": "stream",
          "text": [
            "Product: Pencil Jar Pack | 30 Pieces.\n",
            "Premium Quality Graphite Lead.\n",
            "Superior Quality Writing.\n",
            "Accurate Bonding Process.\n",
            "Soft and Well Treated Wood.\n"
          ]
        }
      ],
      "source": [
        "about=n_s.find(\"ul\",attrs={'class':'a-unordered-list a-vertical a-spacing-mini'}).text.split('  ')\n",
        "for k in range(1,len(about),2):\n",
        "  print(about[k])"
      ]
    },
    {
      "cell_type": "code",
      "execution_count": null,
      "metadata": {
        "colab": {
          "base_uri": "https://localhost:8080/"
        },
        "id": "l2O0aSFFDYMi",
        "outputId": "e5fc2fae-11d2-4dd1-cafa-4af7c67b754f"
      },
      "outputs": [
        {
          "name": "stdout",
          "output_type": "stream",
          "text": [
            "Doms\n"
          ]
        }
      ],
      "source": [
        "brand=n_s.find(\"span\",attrs={'class':'a-size-base po-break-word'}).text\n",
        "print(brand)"
      ]
    }
  ],
  "metadata": {
    "colab": {
      "provenance": [],
      "authorship_tag": "ABX9TyPOyTIcBTbTwJNYIEoxowDl",
      "include_colab_link": true
    },
    "kernelspec": {
      "display_name": "Python 3",
      "name": "python3"
    },
    "language_info": {
      "name": "python"
    }
  },
  "nbformat": 4,
  "nbformat_minor": 0
}